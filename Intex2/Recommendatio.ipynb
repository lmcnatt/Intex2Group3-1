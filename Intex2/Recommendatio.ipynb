{
 "cells": [
  {
   "cell_type": "code",
   "execution_count": 6,
   "metadata": {},
   "outputs": [
    {
     "data": {
      "text/html": [
       "<div>\n",
       "<style scoped>\n",
       "    .dataframe tbody tr th:only-of-type {\n",
       "        vertical-align: middle;\n",
       "    }\n",
       "\n",
       "    .dataframe tbody tr th {\n",
       "        vertical-align: top;\n",
       "    }\n",
       "\n",
       "    .dataframe thead th {\n",
       "        text-align: right;\n",
       "    }\n",
       "</style>\n",
       "<table border=\"1\" class=\"dataframe\">\n",
       "  <thead>\n",
       "    <tr style=\"text-align: right;\">\n",
       "      <th></th>\n",
       "      <th>customer_ID</th>\n",
       "      <th>first_name</th>\n",
       "      <th>last_name</th>\n",
       "      <th>birth_date</th>\n",
       "      <th>country_of_residence</th>\n",
       "      <th>gender</th>\n",
       "      <th>age</th>\n",
       "    </tr>\n",
       "  </thead>\n",
       "  <tbody>\n",
       "    <tr>\n",
       "      <th>0</th>\n",
       "      <td>1</td>\n",
       "      <td>William</td>\n",
       "      <td>Turner</td>\n",
       "      <td>7/3/1995</td>\n",
       "      <td>United Kingdom</td>\n",
       "      <td>M</td>\n",
       "      <td>25.2</td>\n",
       "    </tr>\n",
       "    <tr>\n",
       "      <th>1</th>\n",
       "      <td>2</td>\n",
       "      <td>Maryella</td>\n",
       "      <td>Vanderpool</td>\n",
       "      <td>8/27/1970</td>\n",
       "      <td>USA</td>\n",
       "      <td>F</td>\n",
       "      <td>49.6</td>\n",
       "    </tr>\n",
       "    <tr>\n",
       "      <th>2</th>\n",
       "      <td>3</td>\n",
       "      <td>Warnika</td>\n",
       "      <td>Acharya</td>\n",
       "      <td>7/1/1978</td>\n",
       "      <td>India</td>\n",
       "      <td>F</td>\n",
       "      <td>42.2</td>\n",
       "    </tr>\n",
       "    <tr>\n",
       "      <th>3</th>\n",
       "      <td>4</td>\n",
       "      <td>Elizabeth</td>\n",
       "      <td>Bennett</td>\n",
       "      <td>11/21/1969</td>\n",
       "      <td>United Kingdom</td>\n",
       "      <td>F</td>\n",
       "      <td>51.0</td>\n",
       "    </tr>\n",
       "    <tr>\n",
       "      <th>4</th>\n",
       "      <td>5</td>\n",
       "      <td>Macen</td>\n",
       "      <td>Heckler</td>\n",
       "      <td>11/7/1982</td>\n",
       "      <td>United Kingdom</td>\n",
       "      <td>M</td>\n",
       "      <td>38.0</td>\n",
       "    </tr>\n",
       "  </tbody>\n",
       "</table>\n",
       "</div>"
      ],
      "text/plain": [
       "   customer_ID first_name   last_name  birth_date country_of_residence gender  \\\n",
       "0            1    William      Turner    7/3/1995       United Kingdom      M   \n",
       "1            2   Maryella  Vanderpool   8/27/1970                  USA      F   \n",
       "2            3    Warnika     Acharya    7/1/1978                India      F   \n",
       "3            4  Elizabeth     Bennett  11/21/1969       United Kingdom      F   \n",
       "4            5      Macen     Heckler   11/7/1982       United Kingdom      M   \n",
       "\n",
       "    age  \n",
       "0  25.2  \n",
       "1  49.6  \n",
       "2  42.2  \n",
       "3  51.0  \n",
       "4  38.0  "
      ]
     },
     "execution_count": 6,
     "metadata": {},
     "output_type": "execute_result"
    }
   ],
   "source": [
    "import pandas as pd\n",
    "import sqlite3\n",
    "conn = sqlite3.connect('intex2.db')\n",
    "cursor = conn.cursor()\n",
    "read_sql = \"select * from Customers\"\n",
    "df = pd.read_sql_query(read_sql, conn)\n",
    "df.head()\n",
    "# df_products = pd.read_csv(r'C:\\Users\\gooch\\Downloads\\INTEX W24 Dataset.xlsx - Products.csv')\n",
    "# df_products.to_sql(name=\"Products\", con=conn, if_exists='replace', index=False)"
   ]
  },
  {
   "cell_type": "code",
   "execution_count": 5,
   "metadata": {},
   "outputs": [
    {
     "data": {
      "text/plain": [
       "29134"
      ]
     },
     "execution_count": 5,
     "metadata": {},
     "output_type": "execute_result"
    }
   ],
   "source": []
  }
 ],
 "metadata": {
  "kernelspec": {
   "display_name": "Python 3",
   "language": "python",
   "name": "python3"
  },
  "language_info": {
   "codemirror_mode": {
    "name": "ipython",
    "version": 3
   },
   "file_extension": ".py",
   "mimetype": "text/x-python",
   "name": "python",
   "nbconvert_exporter": "python",
   "pygments_lexer": "ipython3",
   "version": "3.12.2"
  }
 },
 "nbformat": 4,
 "nbformat_minor": 2
}
